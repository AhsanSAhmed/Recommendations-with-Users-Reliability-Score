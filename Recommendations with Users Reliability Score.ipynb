{
 "cells": [
  {
   "cell_type": "code",
   "execution_count": 1,
   "id": "2c37d892-1718-4307-b73b-acce528b70a7",
   "metadata": {},
   "outputs": [],
   "source": [
    "# import pandas as pd\n",
    "\n",
    "# # Load the dataset (change the separator depending on your file format)\n",
    "# data = pd.read_csv('Electronics.txt', sep='\\t', header=None)\n",
    "\n",
    "# # Display the first 20 rows\n",
    "# data.head(50)\n",
    "\n",
    "import pandas as pd\n",
    "import numpy as np\n",
    "def parse_file(filename):\n",
    "    data = []\n",
    "    entry = {}\n",
    "\n",
    "    with open(filename, 'r', encoding='utf-8') as f:\n",
    "        for line in f:\n",
    "            line = line.strip()\n",
    "            if not line:  # Empty line indicates end of one review\n",
    "                if entry: \n",
    "                    data.append(entry)\n",
    "                    entry = {}\n",
    "            else:\n",
    "                parts = line.split(': ', 1)\n",
    "                if len(parts) == 2:\n",
    "                    key, value = parts\n",
    "                    entry[key] = value\n",
    "\n",
    "    if entry:  \n",
    "        data.append(entry)  # Add the last entry\n",
    "\n",
    "    return pd.DataFrame(data)\n",
    "\n",
    "# Load the data into a DataFrame\n",
    "df = parse_file('electronics.txt')\n"
   ]
  },
  {
   "cell_type": "code",
   "execution_count": 2,
   "id": "ee4038c6-7f40-404f-9875-3c142bf77485",
   "metadata": {},
   "outputs": [
    {
     "name": "stdout",
     "output_type": "stream",
     "text": [
      "                                        product/title product/productId  \\\n",
      "0   Kodak Max K2000 Battery Charger with 4 NiMH AA...        B0000630MQ   \n",
      "1   Kodak Max K2000 Battery Charger with 4 NiMH AA...        B0000630MQ   \n",
      "2   Kodak Max K2000 Battery Charger with 4 NiMH AA...        B0000630MQ   \n",
      "3   Kodak Max K2000 Battery Charger with 4 NiMH AA...        B0000630MQ   \n",
      "4   Kodak Max K2000 Battery Charger with 4 NiMH AA...        B0000630MQ   \n",
      "5   Kodak Max K2000 Battery Charger with 4 NiMH AA...        B0000630MQ   \n",
      "6   Kodak Max K2000 Battery Charger with 4 NiMH AA...        B0000630MQ   \n",
      "7   Kodak Max K2000 Battery Charger with 4 NiMH AA...        B0000630MQ   \n",
      "8   Kodak Max K2000 Battery Charger with 4 NiMH AA...        B0000630MQ   \n",
      "9   Kodak Max K2000 Battery Charger with 4 NiMH AA...        B0000630MQ   \n",
      "10  Kodak Max K2000 Battery Charger with 4 NiMH AA...        B0000630MQ   \n",
      "11  Kodak Max K2000 Battery Charger with 4 NiMH AA...        B0000630MQ   \n",
      "12  Kodak Max K2000 Battery Charger with 4 NiMH AA...        B0000630MQ   \n",
      "13  Kodak Max K2000 Battery Charger with 4 NiMH AA...        B0000630MQ   \n",
      "14  Kodak Max K2000 Battery Charger with 4 NiMH AA...        B0000630MQ   \n",
      "15  Kodak Max K2000 Battery Charger with 4 NiMH AA...        B0000630MQ   \n",
      "16  Kodak Max K2000 Battery Charger with 4 NiMH AA...        B0000630MQ   \n",
      "17  Kodak Max K2000 Battery Charger with 4 NiMH AA...        B0000630MQ   \n",
      "18  Kodak Max K2000 Battery Charger with 4 NiMH AA...        B0000630MQ   \n",
      "19  Kodak Max K2000 Battery Charger with 4 NiMH AA...        B0000630MQ   \n",
      "20  Kodak Max K2000 Battery Charger with 4 NiMH AA...        B0000630MQ   \n",
      "21  Kodak Max K2000 Battery Charger with 4 NiMH AA...        B0000630MQ   \n",
      "22  Kodak Max K2000 Battery Charger with 4 NiMH AA...        B0000630MQ   \n",
      "23  Kodak Max K2000 Battery Charger with 4 NiMH AA...        B0000630MQ   \n",
      "24  Kodak Max K2000 Battery Charger with 4 NiMH AA...        B0000630MQ   \n",
      "25  Kodak Max K2000 Battery Charger with 4 NiMH AA...        B0000630MQ   \n",
      "26                         JVC HR-XVC1U DVD-VCR Combo        B0000630MI   \n",
      "27                         JVC HR-XVC1U DVD-VCR Combo        B0000630MI   \n",
      "28                         JVC HR-XVC1U DVD-VCR Combo        B0000630MI   \n",
      "29                         JVC HR-XVC1U DVD-VCR Combo        B0000630MI   \n",
      "\n",
      "          b_ij      z_ij   most_ij        q_ij        top_ij      d_ij  \\\n",
      "0     2.000000  0.040000  0.024888    5.250000  5.368145e-03  0.015128   \n",
      "1     2.000000  0.004444  0.002765    2.750000  2.811886e-03  0.002789   \n",
      "2     1.000000  0.111111  0.069133   23.000000  2.351759e-02  0.046325   \n",
      "3     2.250000  0.027778  0.017283    3.950617  4.039521e-03  0.010661   \n",
      "4     0.000000  1.000000  0.622199    0.000000  0.000000e+00  0.311100   \n",
      "5     0.000000  0.250000  0.155550    0.000000  0.000000e+00  0.077775   \n",
      "6     0.000000  0.008264  0.005142    0.000000  0.000000e+00  0.002571   \n",
      "7     0.000000  0.005102  0.003174    0.000000  0.000000e+00  0.001587   \n",
      "8     0.000000  0.003086  0.001920    0.000000  0.000000e+00  0.000960   \n",
      "9     0.000000  0.002770  0.001724    0.000000  0.000000e+00  0.000862   \n",
      "10    0.500000  0.003906  0.002430   40.000000  4.090016e-02  0.021665   \n",
      "11    0.333333  0.062500  0.038887  198.000000  2.024558e-01  0.120672   \n",
      "12    0.333333  0.006944  0.004321  126.000000  1.288355e-01  0.066578   \n",
      "13    4.764706  0.012346  0.007681    0.748819  7.656701e-04  0.004224   \n",
      "14    0.166667  0.010000  0.006222  576.000000  5.889622e-01  0.297592   \n",
      "15    0.597561  0.001479  0.000920    0.000000  0.000000e+00  0.000460   \n",
      "16  168.005882  0.001600  0.000996    0.000035  3.622563e-08  0.000498   \n",
      "17   38.000000  0.002500  0.001555    0.004155  4.248631e-06  0.000780   \n",
      "18   44.021739  0.001736  0.001080    0.001032  1.055263e-06  0.000541   \n",
      "19   17.000000  0.002268  0.001411    0.017301  1.769038e-05  0.000714   \n",
      "20   14.062500  0.001890  0.001176    0.015170  1.551176e-05  0.000596   \n",
      "21   10.000000  0.020408  0.012698    0.190000  1.942757e-04  0.006446   \n",
      "22    7.000000  0.002066  0.001286    0.081633  8.346970e-05  0.000685   \n",
      "23   10.285714  0.015625  0.009722    0.170139  1.739677e-04  0.004948   \n",
      "24    4.000000  0.005917  0.003682    0.812500  8.307844e-04  0.002256   \n",
      "25    3.000000  0.003460  0.002153    1.000000  1.022504e-03  0.001588   \n",
      "26   21.333333  0.002066  0.001286    0.008789  5.262795e-05  0.000669   \n",
      "27   15.058824  0.010000  0.006222    0.070557  4.224855e-04  0.003322   \n",
      "28   12.000000  0.040000  0.024888    0.145833  8.732342e-04  0.012881   \n",
      "29   15.210526  0.004444  0.002765    0.047545  2.846939e-04  0.001525   \n",
      "\n",
      "       rh_ij  \n",
      "0   0.010601  \n",
      "1   0.004431  \n",
      "2   0.024681  \n",
      "3   0.008747  \n",
      "4   0.155550  \n",
      "5   0.038887  \n",
      "6   0.001286  \n",
      "7   0.000794  \n",
      "8   0.000480  \n",
      "9   0.000431  \n",
      "10  0.011592  \n",
      "11  0.060842  \n",
      "12  0.033795  \n",
      "13  0.009346  \n",
      "14  0.149049  \n",
      "15  0.001137  \n",
      "16  0.255328  \n",
      "17  0.058084  \n",
      "18  0.067107  \n",
      "19  0.026168  \n",
      "20  0.021649  \n",
      "21  0.018406  \n",
      "22  0.010970  \n",
      "23  0.018090  \n",
      "24  0.007201  \n",
      "25  0.005349  \n",
      "26  0.016560  \n",
      "27  0.013114  \n",
      "28  0.015567  \n",
      "29  0.012331  \n"
     ]
    }
   ],
   "source": [
    "# Step 1: Compute b_ij (Helpfulness Score)\n",
    "def calculate_b_ij(helpfulness):\n",
    "    try:\n",
    "        helpful_votes, total_votes = map(int, helpfulness.split('/'))\n",
    "        return (helpful_votes ** 2) / total_votes if total_votes > 0 else 0\n",
    "    except ValueError:\n",
    "        return 0\n",
    "\n",
    "df['b_ij'] = df['review/helpfulness'].apply(calculate_b_ij)\n",
    "\n",
    "# Compute sum of b_xj for each product (i.e., sum of helpfulness scores for all reviews of the same product)\n",
    "df['sum_b_xj'] = df.groupby('product/productId')['b_ij'].transform('sum')\n",
    "\n",
    "# Compute h_ij using the correct summation\n",
    "df['h_ij'] = np.where(df['sum_b_xj'] > 0, df['b_ij'] / df['sum_b_xj'], 0)\n",
    "\n",
    "# Step 2: Rank reviews by recency (most recent first)\n",
    "df['rank'] = df.groupby('product/productId')['review/time'].rank(ascending=False)\n",
    "\n",
    "# Step 3: Compute z_ij efficiently\n",
    "df['z_ij'] = 1 / (df['rank'] ** 2)\n",
    "\n",
    "# Step 4: Normalize most_ij\n",
    "sum_z_xj = df.groupby('product/productId', as_index=False)['z_ij'].agg('sum').rename(columns={'z_ij': 'sum_z'})\n",
    "df = df.merge(sum_z_xj, on='product/productId')\n",
    "df['most_ij'] = df['z_ij'] / df['sum_z']\n",
    "\n",
    "# Step 5: Compute q_ij, avoiding division by zero\n",
    "# df['q_ij'] = np.where(df['b_ij'] > 0, (1 / df['b_ij']**2) * (len(df) - df['rank']), 0)\n",
    "n_reviews_per_product = df.groupby('product/productId')['product/productId'].transform('count')\n",
    "df['q_ij'] = np.where(df['b_ij'] > 0, (1 / df['b_ij']**2) * (n_reviews_per_product - df['rank']), 0)\n",
    "\n",
    "\n",
    "# Step 6: Normalize top_ij\n",
    "sum_q_xj = df.groupby('product/productId', as_index=False)['q_ij'].agg('sum').rename(columns={'q_ij': 'sum_q'})\n",
    "df = df.merge(sum_q_xj, on='product/productId')\n",
    "df['top_ij'] = df['q_ij'] / df['sum_q']\n",
    "\n",
    "# Step 7: Combine scores with alpha\n",
    "alpha = 0.5\n",
    "df['d_ij'] = alpha * df['top_ij'] + (1 - alpha) * df['most_ij']\n",
    "\n",
    "# Step 8: Calculate rh_ij\n",
    "df['rh_ij'] = (df['d_ij'] + df['h_ij'])/2\n",
    "\n",
    "# Display results\n",
    "print(df[['product/title','product/productId', 'b_ij', 'z_ij', 'most_ij', 'q_ij', 'top_ij', 'd_ij','rh_ij']].head(30))"
   ]
  },
  {
   "cell_type": "code",
   "execution_count": 3,
   "id": "8bb8c9fa-b167-4b4e-b5ca-0dfd7d864331",
   "metadata": {
    "scrolled": true
   },
   "outputs": [
    {
     "name": "stderr",
     "output_type": "stream",
     "text": [
      "Epoch 1/50: 100%|███████████████████████████████████████████████████████████| 372260/372260 [00:28<00:00, 13030.09it/s]\n"
     ]
    },
    {
     "name": "stdout",
     "output_type": "stream",
     "text": [
      "Epoch 1: RMSE = 0.1660\n"
     ]
    },
    {
     "name": "stderr",
     "output_type": "stream",
     "text": [
      "Epoch 2/50: 100%|███████████████████████████████████████████████████████████| 372260/372260 [00:28<00:00, 12875.31it/s]\n"
     ]
    },
    {
     "name": "stdout",
     "output_type": "stream",
     "text": [
      "Epoch 2: RMSE = 0.1560\n"
     ]
    },
    {
     "name": "stderr",
     "output_type": "stream",
     "text": [
      "Epoch 3/50: 100%|███████████████████████████████████████████████████████████| 372260/372260 [00:29<00:00, 12609.70it/s]\n"
     ]
    },
    {
     "name": "stdout",
     "output_type": "stream",
     "text": [
      "Epoch 3: RMSE = 0.1489\n"
     ]
    },
    {
     "name": "stderr",
     "output_type": "stream",
     "text": [
      "Epoch 4/50: 100%|███████████████████████████████████████████████████████████| 372260/372260 [00:29<00:00, 12668.21it/s]\n"
     ]
    },
    {
     "name": "stdout",
     "output_type": "stream",
     "text": [
      "Epoch 4: RMSE = 0.1431\n"
     ]
    },
    {
     "name": "stderr",
     "output_type": "stream",
     "text": [
      "Epoch 5/50: 100%|███████████████████████████████████████████████████████████| 372260/372260 [00:28<00:00, 12939.79it/s]\n"
     ]
    },
    {
     "name": "stdout",
     "output_type": "stream",
     "text": [
      "Epoch 5: RMSE = 0.1381\n"
     ]
    },
    {
     "name": "stderr",
     "output_type": "stream",
     "text": [
      "Epoch 6/50: 100%|███████████████████████████████████████████████████████████| 372260/372260 [00:28<00:00, 13056.68it/s]\n"
     ]
    },
    {
     "name": "stdout",
     "output_type": "stream",
     "text": [
      "Epoch 6: RMSE = 0.1338\n"
     ]
    },
    {
     "name": "stderr",
     "output_type": "stream",
     "text": [
      "Epoch 7/50: 100%|███████████████████████████████████████████████████████████| 372260/372260 [00:29<00:00, 12609.53it/s]\n"
     ]
    },
    {
     "name": "stdout",
     "output_type": "stream",
     "text": [
      "Epoch 7: RMSE = 0.1300\n"
     ]
    },
    {
     "name": "stderr",
     "output_type": "stream",
     "text": [
      "Epoch 8/50: 100%|███████████████████████████████████████████████████████████| 372260/372260 [00:29<00:00, 12767.20it/s]\n"
     ]
    },
    {
     "name": "stdout",
     "output_type": "stream",
     "text": [
      "Epoch 8: RMSE = 0.1265\n"
     ]
    },
    {
     "name": "stderr",
     "output_type": "stream",
     "text": [
      "Epoch 9/50: 100%|███████████████████████████████████████████████████████████| 372260/372260 [00:29<00:00, 12638.79it/s]\n"
     ]
    },
    {
     "name": "stdout",
     "output_type": "stream",
     "text": [
      "Epoch 9: RMSE = 0.1233\n"
     ]
    },
    {
     "name": "stderr",
     "output_type": "stream",
     "text": [
      "Epoch 10/50: 100%|██████████████████████████████████████████████████████████| 372260/372260 [00:28<00:00, 12892.76it/s]\n"
     ]
    },
    {
     "name": "stdout",
     "output_type": "stream",
     "text": [
      "Epoch 10: RMSE = 0.1205\n"
     ]
    },
    {
     "name": "stderr",
     "output_type": "stream",
     "text": [
      "Epoch 11/50: 100%|██████████████████████████████████████████████████████████| 372260/372260 [00:29<00:00, 12706.36it/s]\n"
     ]
    },
    {
     "name": "stdout",
     "output_type": "stream",
     "text": [
      "Epoch 11: RMSE = 0.1178\n"
     ]
    },
    {
     "name": "stderr",
     "output_type": "stream",
     "text": [
      "Epoch 12/50: 100%|██████████████████████████████████████████████████████████| 372260/372260 [00:28<00:00, 12912.57it/s]\n"
     ]
    },
    {
     "name": "stdout",
     "output_type": "stream",
     "text": [
      "Epoch 12: RMSE = 0.1154\n"
     ]
    },
    {
     "name": "stderr",
     "output_type": "stream",
     "text": [
      "Epoch 13/50: 100%|██████████████████████████████████████████████████████████| 372260/372260 [00:28<00:00, 12850.13it/s]\n"
     ]
    },
    {
     "name": "stdout",
     "output_type": "stream",
     "text": [
      "Epoch 13: RMSE = 0.1131\n"
     ]
    },
    {
     "name": "stderr",
     "output_type": "stream",
     "text": [
      "Epoch 14/50: 100%|██████████████████████████████████████████████████████████| 372260/372260 [00:29<00:00, 12575.38it/s]\n"
     ]
    },
    {
     "name": "stdout",
     "output_type": "stream",
     "text": [
      "Epoch 14: RMSE = 0.1110\n"
     ]
    },
    {
     "name": "stderr",
     "output_type": "stream",
     "text": [
      "Epoch 15/50: 100%|██████████████████████████████████████████████████████████| 372260/372260 [00:29<00:00, 12771.06it/s]\n"
     ]
    },
    {
     "name": "stdout",
     "output_type": "stream",
     "text": [
      "Epoch 15: RMSE = 0.1090\n"
     ]
    },
    {
     "name": "stderr",
     "output_type": "stream",
     "text": [
      "Epoch 16/50: 100%|██████████████████████████████████████████████████████████| 372260/372260 [00:28<00:00, 13061.49it/s]\n"
     ]
    },
    {
     "name": "stdout",
     "output_type": "stream",
     "text": [
      "Epoch 16: RMSE = 0.1072\n"
     ]
    },
    {
     "name": "stderr",
     "output_type": "stream",
     "text": [
      "Epoch 17/50: 100%|██████████████████████████████████████████████████████████| 372260/372260 [00:29<00:00, 12822.28it/s]\n"
     ]
    },
    {
     "name": "stdout",
     "output_type": "stream",
     "text": [
      "Epoch 17: RMSE = 0.1054\n"
     ]
    },
    {
     "name": "stderr",
     "output_type": "stream",
     "text": [
      "Epoch 18/50: 100%|██████████████████████████████████████████████████████████| 372260/372260 [00:28<00:00, 12880.15it/s]\n"
     ]
    },
    {
     "name": "stdout",
     "output_type": "stream",
     "text": [
      "Epoch 18: RMSE = 0.1038\n"
     ]
    },
    {
     "name": "stderr",
     "output_type": "stream",
     "text": [
      "Epoch 19/50: 100%|██████████████████████████████████████████████████████████| 372260/372260 [00:29<00:00, 12802.65it/s]\n"
     ]
    },
    {
     "name": "stdout",
     "output_type": "stream",
     "text": [
      "Epoch 19: RMSE = 0.1023\n"
     ]
    },
    {
     "name": "stderr",
     "output_type": "stream",
     "text": [
      "Epoch 20/50: 100%|██████████████████████████████████████████████████████████| 372260/372260 [00:29<00:00, 12767.89it/s]\n"
     ]
    },
    {
     "name": "stdout",
     "output_type": "stream",
     "text": [
      "Epoch 20: RMSE = 0.1008\n"
     ]
    },
    {
     "name": "stderr",
     "output_type": "stream",
     "text": [
      "Epoch 21/50: 100%|██████████████████████████████████████████████████████████| 372260/372260 [00:29<00:00, 12791.83it/s]\n"
     ]
    },
    {
     "name": "stdout",
     "output_type": "stream",
     "text": [
      "Epoch 21: RMSE = 0.0995\n"
     ]
    },
    {
     "name": "stderr",
     "output_type": "stream",
     "text": [
      "Epoch 22/50: 100%|██████████████████████████████████████████████████████████| 372260/372260 [00:29<00:00, 12740.57it/s]\n"
     ]
    },
    {
     "name": "stdout",
     "output_type": "stream",
     "text": [
      "Epoch 22: RMSE = 0.0982\n"
     ]
    },
    {
     "name": "stderr",
     "output_type": "stream",
     "text": [
      "Epoch 23/50: 100%|██████████████████████████████████████████████████████████| 372260/372260 [00:29<00:00, 12784.28it/s]\n"
     ]
    },
    {
     "name": "stdout",
     "output_type": "stream",
     "text": [
      "Epoch 23: RMSE = 0.0970\n"
     ]
    },
    {
     "name": "stderr",
     "output_type": "stream",
     "text": [
      "Epoch 24/50: 100%|██████████████████████████████████████████████████████████| 372260/372260 [00:29<00:00, 12604.68it/s]\n"
     ]
    },
    {
     "name": "stdout",
     "output_type": "stream",
     "text": [
      "Epoch 24: RMSE = 0.0958\n"
     ]
    },
    {
     "name": "stderr",
     "output_type": "stream",
     "text": [
      "Epoch 25/50: 100%|██████████████████████████████████████████████████████████| 372260/372260 [00:29<00:00, 12458.62it/s]\n"
     ]
    },
    {
     "name": "stdout",
     "output_type": "stream",
     "text": [
      "Epoch 25: RMSE = 0.0947\n"
     ]
    },
    {
     "name": "stderr",
     "output_type": "stream",
     "text": [
      "Epoch 26/50: 100%|██████████████████████████████████████████████████████████| 372260/372260 [00:28<00:00, 12869.49it/s]\n"
     ]
    },
    {
     "name": "stdout",
     "output_type": "stream",
     "text": [
      "Epoch 26: RMSE = 0.0937\n"
     ]
    },
    {
     "name": "stderr",
     "output_type": "stream",
     "text": [
      "Epoch 27/50: 100%|██████████████████████████████████████████████████████████| 372260/372260 [00:28<00:00, 12888.57it/s]\n"
     ]
    },
    {
     "name": "stdout",
     "output_type": "stream",
     "text": [
      "Epoch 27: RMSE = 0.0927\n"
     ]
    },
    {
     "name": "stderr",
     "output_type": "stream",
     "text": [
      "Epoch 28/50: 100%|██████████████████████████████████████████████████████████| 372260/372260 [00:28<00:00, 12896.33it/s]\n"
     ]
    },
    {
     "name": "stdout",
     "output_type": "stream",
     "text": [
      "Epoch 28: RMSE = 0.0917\n"
     ]
    },
    {
     "name": "stderr",
     "output_type": "stream",
     "text": [
      "Epoch 29/50: 100%|██████████████████████████████████████████████████████████| 372260/372260 [00:29<00:00, 12692.97it/s]\n"
     ]
    },
    {
     "name": "stdout",
     "output_type": "stream",
     "text": [
      "Epoch 29: RMSE = 0.0909\n"
     ]
    },
    {
     "name": "stderr",
     "output_type": "stream",
     "text": [
      "Epoch 30/50: 100%|██████████████████████████████████████████████████████████| 372260/372260 [00:28<00:00, 12978.25it/s]\n"
     ]
    },
    {
     "name": "stdout",
     "output_type": "stream",
     "text": [
      "Epoch 30: RMSE = 0.0900\n"
     ]
    },
    {
     "name": "stderr",
     "output_type": "stream",
     "text": [
      "Epoch 31/50: 100%|██████████████████████████████████████████████████████████| 372260/372260 [00:29<00:00, 12823.23it/s]\n"
     ]
    },
    {
     "name": "stdout",
     "output_type": "stream",
     "text": [
      "Epoch 31: RMSE = 0.0892\n"
     ]
    },
    {
     "name": "stderr",
     "output_type": "stream",
     "text": [
      "Epoch 32/50: 100%|██████████████████████████████████████████████████████████| 372260/372260 [00:28<00:00, 12919.45it/s]\n"
     ]
    },
    {
     "name": "stdout",
     "output_type": "stream",
     "text": [
      "Epoch 32: RMSE = 0.0884\n"
     ]
    },
    {
     "name": "stderr",
     "output_type": "stream",
     "text": [
      "Epoch 33/50: 100%|██████████████████████████████████████████████████████████| 372260/372260 [00:29<00:00, 12815.69it/s]\n"
     ]
    },
    {
     "name": "stdout",
     "output_type": "stream",
     "text": [
      "Epoch 33: RMSE = 0.0877\n"
     ]
    },
    {
     "name": "stderr",
     "output_type": "stream",
     "text": [
      "Epoch 34/50: 100%|██████████████████████████████████████████████████████████| 372260/372260 [00:28<00:00, 13003.99it/s]\n"
     ]
    },
    {
     "name": "stdout",
     "output_type": "stream",
     "text": [
      "Epoch 34: RMSE = 0.0870\n"
     ]
    },
    {
     "name": "stderr",
     "output_type": "stream",
     "text": [
      "Epoch 35/50: 100%|██████████████████████████████████████████████████████████| 372260/372260 [00:29<00:00, 12696.09it/s]\n"
     ]
    },
    {
     "name": "stdout",
     "output_type": "stream",
     "text": [
      "Epoch 35: RMSE = 0.0864\n"
     ]
    },
    {
     "name": "stderr",
     "output_type": "stream",
     "text": [
      "Epoch 36/50: 100%|██████████████████████████████████████████████████████████| 372260/372260 [00:29<00:00, 12661.46it/s]\n"
     ]
    },
    {
     "name": "stdout",
     "output_type": "stream",
     "text": [
      "Epoch 36: RMSE = 0.0857\n"
     ]
    },
    {
     "name": "stderr",
     "output_type": "stream",
     "text": [
      "Epoch 37/50: 100%|██████████████████████████████████████████████████████████| 372260/372260 [00:29<00:00, 12791.99it/s]\n"
     ]
    },
    {
     "name": "stdout",
     "output_type": "stream",
     "text": [
      "Epoch 37: RMSE = 0.0851\n"
     ]
    },
    {
     "name": "stderr",
     "output_type": "stream",
     "text": [
      "Epoch 38/50: 100%|██████████████████████████████████████████████████████████| 372260/372260 [00:29<00:00, 12743.99it/s]\n"
     ]
    },
    {
     "name": "stdout",
     "output_type": "stream",
     "text": [
      "Epoch 38: RMSE = 0.0845\n"
     ]
    },
    {
     "name": "stderr",
     "output_type": "stream",
     "text": [
      "Epoch 39/50: 100%|██████████████████████████████████████████████████████████| 372260/372260 [00:29<00:00, 12732.14it/s]\n"
     ]
    },
    {
     "name": "stdout",
     "output_type": "stream",
     "text": [
      "Epoch 39: RMSE = 0.0840\n"
     ]
    },
    {
     "name": "stderr",
     "output_type": "stream",
     "text": [
      "Epoch 40/50: 100%|██████████████████████████████████████████████████████████| 372260/372260 [00:28<00:00, 12857.04it/s]\n"
     ]
    },
    {
     "name": "stdout",
     "output_type": "stream",
     "text": [
      "Epoch 40: RMSE = 0.0835\n"
     ]
    },
    {
     "name": "stderr",
     "output_type": "stream",
     "text": [
      "Epoch 41/50: 100%|██████████████████████████████████████████████████████████| 372260/372260 [00:28<00:00, 12960.96it/s]\n"
     ]
    },
    {
     "name": "stdout",
     "output_type": "stream",
     "text": [
      "Epoch 41: RMSE = 0.0830\n"
     ]
    },
    {
     "name": "stderr",
     "output_type": "stream",
     "text": [
      "Epoch 42/50: 100%|██████████████████████████████████████████████████████████| 372260/372260 [00:33<00:00, 11184.93it/s]\n"
     ]
    },
    {
     "name": "stdout",
     "output_type": "stream",
     "text": [
      "Epoch 42: RMSE = 0.0825\n"
     ]
    },
    {
     "name": "stderr",
     "output_type": "stream",
     "text": [
      "Epoch 43/50: 100%|██████████████████████████████████████████████████████████| 372260/372260 [00:29<00:00, 12726.44it/s]\n"
     ]
    },
    {
     "name": "stdout",
     "output_type": "stream",
     "text": [
      "Epoch 43: RMSE = 0.0820\n"
     ]
    },
    {
     "name": "stderr",
     "output_type": "stream",
     "text": [
      "Epoch 44/50: 100%|██████████████████████████████████████████████████████████| 372260/372260 [00:28<00:00, 12985.14it/s]\n"
     ]
    },
    {
     "name": "stdout",
     "output_type": "stream",
     "text": [
      "Epoch 44: RMSE = 0.0816\n"
     ]
    },
    {
     "name": "stderr",
     "output_type": "stream",
     "text": [
      "Epoch 45/50: 100%|██████████████████████████████████████████████████████████| 372260/372260 [00:29<00:00, 12582.93it/s]\n"
     ]
    },
    {
     "name": "stdout",
     "output_type": "stream",
     "text": [
      "Epoch 45: RMSE = 0.0812\n"
     ]
    },
    {
     "name": "stderr",
     "output_type": "stream",
     "text": [
      "Epoch 46/50: 100%|██████████████████████████████████████████████████████████| 372260/372260 [00:29<00:00, 12585.43it/s]\n"
     ]
    },
    {
     "name": "stdout",
     "output_type": "stream",
     "text": [
      "Epoch 46: RMSE = 0.0808\n"
     ]
    },
    {
     "name": "stderr",
     "output_type": "stream",
     "text": [
      "Epoch 47/50: 100%|██████████████████████████████████████████████████████████| 372260/372260 [00:29<00:00, 12719.00it/s]\n"
     ]
    },
    {
     "name": "stdout",
     "output_type": "stream",
     "text": [
      "Epoch 47: RMSE = 0.0804\n"
     ]
    },
    {
     "name": "stderr",
     "output_type": "stream",
     "text": [
      "Epoch 48/50: 100%|██████████████████████████████████████████████████████████| 372260/372260 [00:29<00:00, 12708.17it/s]\n"
     ]
    },
    {
     "name": "stdout",
     "output_type": "stream",
     "text": [
      "Epoch 48: RMSE = 0.0800\n"
     ]
    },
    {
     "name": "stderr",
     "output_type": "stream",
     "text": [
      "Epoch 49/50: 100%|██████████████████████████████████████████████████████████| 372260/372260 [00:29<00:00, 12646.52it/s]\n"
     ]
    },
    {
     "name": "stdout",
     "output_type": "stream",
     "text": [
      "Epoch 49: RMSE = 0.0797\n"
     ]
    },
    {
     "name": "stderr",
     "output_type": "stream",
     "text": [
      "Epoch 50/50: 100%|██████████████████████████████████████████████████████████| 372260/372260 [00:28<00:00, 12841.77it/s]"
     ]
    },
    {
     "name": "stdout",
     "output_type": "stream",
     "text": [
      "Epoch 50: RMSE = 0.0794\n"
     ]
    },
    {
     "name": "stderr",
     "output_type": "stream",
     "text": [
      "\n"
     ]
    }
   ],
   "source": [
    "import numpy as np\n",
    "import pandas as pd\n",
    "from tqdm import tqdm\n",
    "from sklearn.metrics import mean_squared_error\n",
    "\n",
    "# **Step 1: Filter Active Users**\n",
    "user_interaction_counts = df['review/userId'].value_counts()\n",
    "active_users = user_interaction_counts[user_interaction_counts >= 3].index\n",
    "\n",
    "df = df[df['review/userId'].isin(active_users)]  # Keep only active users\n",
    "\n",
    "# Encode users & items\n",
    "users = df['review/userId'].unique()\n",
    "items = df['product/productId'].unique()\n",
    "\n",
    "user_map = {user: i for i, user in enumerate(users)}\n",
    "item_map = {item: i for i, item in enumerate(items)}\n",
    "\n",
    "num_users = len(users)\n",
    "num_items = len(items)\n",
    "\n",
    "# **Fix: More stable initialization**\n",
    "def train_svd_sgd(df, num_users, num_items, k=50, lr=0.01, reg=0.1, epochs=20):\n",
    "    \"\"\"Train an SVD model using SGD with stability fixes\"\"\"\n",
    "    \n",
    "    # Initialize latent factors with better scaling\n",
    "    U = np.random.normal(scale=1./np.sqrt(k), size=(num_users, k))\n",
    "    V = np.random.normal(scale=1./np.sqrt(k), size=(num_items, k))\n",
    "\n",
    "    for epoch in range(epochs):\n",
    "        total_loss = 0\n",
    "        count = 0  # Track valid updates\n",
    "\n",
    "        with tqdm(total=len(df), desc=f\"Epoch {epoch+1}/{epochs}\") as pbar:\n",
    "            for _, row in df.iterrows():\n",
    "                i = user_map.get(row['review/userId'])\n",
    "                j = item_map.get(row['product/productId'])\n",
    "                true_rating = row['rh_ij']\n",
    "\n",
    "                # **Fix: Skip invalid data**\n",
    "                if i is None or j is None or np.isnan(true_rating):\n",
    "                    continue\n",
    "\n",
    "                # Predict rating\n",
    "                pred = np.dot(U[i, :], V[j, :].T)\n",
    "\n",
    "                # **Fix: Skip NaN or Inf predictions**\n",
    "                if np.isnan(pred) or np.isinf(pred):\n",
    "                    continue\n",
    "\n",
    "                error = true_rating - pred\n",
    "\n",
    "                # **Fix: More stable update**\n",
    "                U[i, :] += lr * (error * V[j, :] - reg * U[i, :])\n",
    "                V[j, :] += lr * (error * U[i, :] - reg * V[j, :])\n",
    "\n",
    "                total_loss += error**2\n",
    "                count += 1\n",
    "                pbar.update(1)\n",
    "\n",
    "        # **Fix: Prevent NaN RMSE**\n",
    "        rmse = np.sqrt(total_loss / count) if count > 0 else float('nan')\n",
    "\n",
    "        print(f\"Epoch {epoch+1}: RMSE = {rmse:.4f}\")\n",
    "\n",
    "    return U, V\n",
    "\n",
    "# **Fix: Drop missing values**\n",
    "df = df.dropna(subset=['rh_ij'])\n",
    "\n",
    "# Train SVD\n",
    "U, V = train_svd_sgd(df, num_users, num_items, k=50, epochs=50)"
   ]
  },
  {
   "cell_type": "code",
   "execution_count": 4,
   "id": "7e296558-ff33-4a7b-b48c-18d60ea6edf1",
   "metadata": {},
   "outputs": [
    {
     "name": "stderr",
     "output_type": "stream",
     "text": [
      "Computing Hit Ratio: 100%|█████████████████████████████████████████████████████████| 5000/5000 [05:31<00:00, 15.08it/s]"
     ]
    },
    {
     "name": "stdout",
     "output_type": "stream",
     "text": [
      "\n",
      "🎯 Hit Ratio @10 (Sampled 5000 Users): 0.0126\n"
     ]
    },
    {
     "name": "stderr",
     "output_type": "stream",
     "text": [
      "\n"
     ]
    }
   ],
   "source": [
    "import numpy as np\n",
    "import pandas as pd\n",
    "from tqdm import tqdm\n",
    "\n",
    "# Reverse item mapping for fast lookup\n",
    "rev_item_map = {v: k for k, v in item_map.items()}\n",
    "\n",
    "def compare_actual_vs_predicted(U, V, df, user_map, rev_item_map, k=10, sample_size=5000):\n",
    "    \"\"\"Compare actual vs. predicted recommendations and compute Hit Ratio @K (with Sampling)\"\"\"\n",
    "    \n",
    "    # 🚀 **Randomly sample users for faster computation**\n",
    "    sampled_users = np.random.choice(list(user_map.keys()), size=min(sample_size, len(user_map)), replace=False)\n",
    "\n",
    "    hits = 0\n",
    "    total_users = 0\n",
    "\n",
    "    for user in tqdm(sampled_users, desc=\"Computing Hit Ratio\"):\n",
    "        i = user_map[user]\n",
    "\n",
    "        # Get actual top-K items based on rh_ij\n",
    "        user_interactions = df[df['review/userId'] == user]\n",
    "        actual_items = set(user_interactions.nlargest(k, 'rh_ij')['product/productId'])\n",
    "\n",
    "        if len(actual_items) == 0:\n",
    "            continue  # Skip users with no interactions\n",
    "\n",
    "        total_users += 1\n",
    "\n",
    "        # **🚀 Compute Predictions Faster**\n",
    "        predicted_scores = np.dot(U[i, :], V.T)\n",
    "\n",
    "        # **Efficient Top-K Selection**\n",
    "        top_k_indices = np.argsort(predicted_scores)[-k:][::-1]  # Sorted top-K\n",
    "        top_predicted_items = {rev_item_map[idx] for idx in top_k_indices if idx in rev_item_map}\n",
    "\n",
    "        # **Hit Calculation**\n",
    "        hits += len(actual_items & top_predicted_items) > 0\n",
    "\n",
    "    return hits / total_users if total_users > 0 else 0  # Hit Ratio @K\n",
    "\n",
    "# **🚀 Compute Hit Ratio @10 on a Sample**\n",
    "hit_ratio_10 = compare_actual_vs_predicted(U, V, df, user_map, rev_item_map, k=10, sample_size=5000)\n",
    "print(f\"\\n🎯 Hit Ratio @10 (Sampled 5000 Users): {hit_ratio_10:.4f}\")\n"
   ]
  },
  {
   "cell_type": "code",
   "execution_count": 5,
   "id": "bcf27427-b31f-41b7-8cf3-105bdb1d10f4",
   "metadata": {},
   "outputs": [
    {
     "name": "stdout",
     "output_type": "stream",
     "text": [
      "📉 Data Sparsity: 0.9999 (99.99% missing)\n"
     ]
    }
   ],
   "source": [
    "num_ratings = len(df)  # Total number of ratings in the dataset\n",
    "num_users = len(df['review/userId'].unique())  # Total unique users\n",
    "num_items = len(df['product/productId'].unique())  # Total unique items\n",
    "\n",
    "# Total possible interactions (user-item matrix size)\n",
    "total_possible_ratings = num_users * num_items  \n",
    "\n",
    "# Compute sparsity\n",
    "sparsity = 1 - (num_ratings / total_possible_ratings)\n",
    "\n",
    "print(f\"📉 Data Sparsity: {sparsity:.4f} ({sparsity * 100:.2f}% missing)\")\n"
   ]
  },
  {
   "cell_type": "code",
   "execution_count": 6,
   "id": "76077a67-cca6-450e-b733-a215a5428754",
   "metadata": {},
   "outputs": [],
   "source": [
    "import pandas as pd\n",
    "import numpy as np\n",
    "from sklearn.model_selection import train_test_split\n",
    "from sklearn.preprocessing import StandardScaler\n",
    "\n",
    "# Select relevant features\n",
    "features = ['b_ij','h_ij', 'most_ij', 'top_ij', 'd_ij']\n",
    "target = 'rh_ij'  # The value we want to predict\n",
    "\n",
    "# Drop NaN values (important for MLP)\n",
    "df = df.dropna(subset=[target] + features)\n",
    "\n",
    "# Extract X (features) and y (target)\n",
    "X = df[features].values\n",
    "y = df[target].values\n",
    "\n",
    "# Split into training and test sets (80-20 split)\n",
    "X_train, X_test, y_train, y_test = train_test_split(X, y, test_size=0.2, random_state=42)\n",
    "\n",
    "# Normalize features for better MLP training\n",
    "scaler = StandardScaler()\n",
    "X_train = scaler.fit_transform(X_train)\n",
    "X_test = scaler.transform(X_test)\n"
   ]
  },
  {
   "cell_type": "code",
   "execution_count": 7,
   "id": "a86b4c13-6562-4949-9e7b-0516b1b52241",
   "metadata": {
    "scrolled": true
   },
   "outputs": [
    {
     "name": "stderr",
     "output_type": "stream",
     "text": [
      "C:\\ProgramData\\anaconda3\\Lib\\site-packages\\keras\\src\\layers\\core\\dense.py:87: UserWarning: Do not pass an `input_shape`/`input_dim` argument to a layer. When using Sequential models, prefer using an `Input(shape)` object as the first layer in the model instead.\n",
      "  super().__init__(activity_regularizer=activity_regularizer, **kwargs)\n"
     ]
    },
    {
     "name": "stdout",
     "output_type": "stream",
     "text": [
      "Epoch 1/50\n",
      "\u001b[1m29567/29567\u001b[0m \u001b[32m━━━━━━━━━━━━━━━━━━━━\u001b[0m\u001b[37m\u001b[0m \u001b[1m54s\u001b[0m 2ms/step - loss: 7.3933e-04 - mae: 0.0039 - val_loss: 2.7626e-07 - val_mae: 2.3795e-04\n",
      "Epoch 2/50\n",
      "\u001b[1m29567/29567\u001b[0m \u001b[32m━━━━━━━━━━━━━━━━━━━━\u001b[0m\u001b[37m\u001b[0m \u001b[1m65s\u001b[0m 2ms/step - loss: 1.4131e-06 - mae: 4.3777e-04 - val_loss: 8.2440e-08 - val_mae: 1.1929e-04\n",
      "Epoch 3/50\n",
      "\u001b[1m29567/29567\u001b[0m \u001b[32m━━━━━━━━━━━━━━━━━━━━\u001b[0m\u001b[37m\u001b[0m \u001b[1m58s\u001b[0m 2ms/step - loss: 6.1451e-07 - mae: 2.7937e-04 - val_loss: 5.1139e-08 - val_mae: 1.1367e-04\n",
      "Epoch 4/50\n",
      "\u001b[1m29567/29567\u001b[0m \u001b[32m━━━━━━━━━━━━━━━━━━━━\u001b[0m\u001b[37m\u001b[0m \u001b[1m57s\u001b[0m 2ms/step - loss: 4.9198e-07 - mae: 2.4818e-04 - val_loss: 2.1173e-07 - val_mae: 3.5383e-04\n",
      "Epoch 5/50\n",
      "\u001b[1m29567/29567\u001b[0m \u001b[32m━━━━━━━━━━━━━━━━━━━━\u001b[0m\u001b[37m\u001b[0m \u001b[1m57s\u001b[0m 2ms/step - loss: 6.9896e-07 - mae: 1.9864e-04 - val_loss: 1.0970e-07 - val_mae: 3.2123e-05\n",
      "Epoch 6/50\n",
      "\u001b[1m29567/29567\u001b[0m \u001b[32m━━━━━━━━━━━━━━━━━━━━\u001b[0m\u001b[37m\u001b[0m \u001b[1m57s\u001b[0m 2ms/step - loss: 4.4649e-07 - mae: 1.6982e-04 - val_loss: 8.2801e-08 - val_mae: 6.1917e-05\n",
      "Epoch 7/50\n",
      "\u001b[1m29567/29567\u001b[0m \u001b[32m━━━━━━━━━━━━━━━━━━━━\u001b[0m\u001b[37m\u001b[0m \u001b[1m56s\u001b[0m 2ms/step - loss: 1.0250e-06 - mae: 2.0240e-04 - val_loss: 6.5348e-08 - val_mae: 1.1337e-04\n",
      "Epoch 8/50\n",
      "\u001b[1m29567/29567\u001b[0m \u001b[32m━━━━━━━━━━━━━━━━━━━━\u001b[0m\u001b[37m\u001b[0m \u001b[1m57s\u001b[0m 2ms/step - loss: 3.4829e-07 - mae: 1.5208e-04 - val_loss: 2.2765e-10 - val_mae: 1.3515e-05\n",
      "Epoch 9/50\n",
      "\u001b[1m29567/29567\u001b[0m \u001b[32m━━━━━━━━━━━━━━━━━━━━\u001b[0m\u001b[37m\u001b[0m \u001b[1m56s\u001b[0m 2ms/step - loss: 2.4737e-07 - mae: 1.3365e-04 - val_loss: 2.8199e-06 - val_mae: 6.8273e-04\n",
      "Epoch 10/50\n",
      "\u001b[1m29567/29567\u001b[0m \u001b[32m━━━━━━━━━━━━━━━━━━━━\u001b[0m\u001b[37m\u001b[0m \u001b[1m57s\u001b[0m 2ms/step - loss: 3.1951e-07 - mae: 1.4627e-04 - val_loss: 8.6805e-10 - val_mae: 2.0621e-05\n",
      "Epoch 11/50\n",
      "\u001b[1m29567/29567\u001b[0m \u001b[32m━━━━━━━━━━━━━━━━━━━━\u001b[0m\u001b[37m\u001b[0m \u001b[1m57s\u001b[0m 2ms/step - loss: 2.8138e-07 - mae: 1.3304e-04 - val_loss: 6.1218e-10 - val_mae: 1.9046e-05\n",
      "Epoch 12/50\n",
      "\u001b[1m29567/29567\u001b[0m \u001b[32m━━━━━━━━━━━━━━━━━━━━\u001b[0m\u001b[37m\u001b[0m \u001b[1m57s\u001b[0m 2ms/step - loss: 3.2331e-07 - mae: 1.3328e-04 - val_loss: 1.9092e-12 - val_mae: 3.2806e-07\n",
      "Epoch 13/50\n",
      "\u001b[1m29567/29567\u001b[0m \u001b[32m━━━━━━━━━━━━━━━━━━━━\u001b[0m\u001b[37m\u001b[0m \u001b[1m58s\u001b[0m 2ms/step - loss: 3.7183e-07 - mae: 1.2690e-04 - val_loss: 2.4369e-11 - val_mae: 3.7667e-06\n",
      "Epoch 14/50\n",
      "\u001b[1m29567/29567\u001b[0m \u001b[32m━━━━━━━━━━━━━━━━━━━━\u001b[0m\u001b[37m\u001b[0m \u001b[1m58s\u001b[0m 2ms/step - loss: 3.1622e-07 - mae: 1.1387e-04 - val_loss: 9.8579e-08 - val_mae: 2.8030e-04\n",
      "Epoch 15/50\n",
      "\u001b[1m29567/29567\u001b[0m \u001b[32m━━━━━━━━━━━━━━━━━━━━\u001b[0m\u001b[37m\u001b[0m \u001b[1m58s\u001b[0m 2ms/step - loss: 2.4735e-07 - mae: 1.3237e-04 - val_loss: 6.0128e-12 - val_mae: 1.0138e-06\n",
      "Epoch 16/50\n",
      "\u001b[1m29567/29567\u001b[0m \u001b[32m━━━━━━━━━━━━━━━━━━━━\u001b[0m\u001b[37m\u001b[0m \u001b[1m58s\u001b[0m 2ms/step - loss: 1.3202e-07 - mae: 7.8584e-05 - val_loss: 2.9606e-08 - val_mae: 6.4519e-05\n",
      "Epoch 17/50\n",
      "\u001b[1m29567/29567\u001b[0m \u001b[32m━━━━━━━━━━━━━━━━━━━━\u001b[0m\u001b[37m\u001b[0m \u001b[1m58s\u001b[0m 2ms/step - loss: 1.1499e-07 - mae: 8.2738e-05 - val_loss: 2.5252e-10 - val_mae: 1.5158e-05\n",
      "Epoch 18/50\n",
      "\u001b[1m29567/29567\u001b[0m \u001b[32m━━━━━━━━━━━━━━━━━━━━\u001b[0m\u001b[37m\u001b[0m \u001b[1m60s\u001b[0m 2ms/step - loss: 1.0627e-07 - mae: 8.4927e-05 - val_loss: 6.6786e-11 - val_mae: 6.2889e-06\n",
      "Epoch 19/50\n",
      "\u001b[1m29567/29567\u001b[0m \u001b[32m━━━━━━━━━━━━━━━━━━━━\u001b[0m\u001b[37m\u001b[0m \u001b[1m59s\u001b[0m 2ms/step - loss: 4.7153e-07 - mae: 1.6268e-04 - val_loss: 2.2515e-12 - val_mae: 1.1260e-06\n",
      "Epoch 20/50\n",
      "\u001b[1m29567/29567\u001b[0m \u001b[32m━━━━━━━━━━━━━━━━━━━━\u001b[0m\u001b[37m\u001b[0m \u001b[1m59s\u001b[0m 2ms/step - loss: 1.4613e-07 - mae: 8.5790e-05 - val_loss: 1.0153e-13 - val_mae: 1.2200e-07\n",
      "Epoch 21/50\n",
      "\u001b[1m29567/29567\u001b[0m \u001b[32m━━━━━━━━━━━━━━━━━━━━\u001b[0m\u001b[37m\u001b[0m \u001b[1m59s\u001b[0m 2ms/step - loss: 1.0446e-07 - mae: 7.3821e-05 - val_loss: 1.4601e-13 - val_mae: 2.0603e-07\n",
      "Epoch 22/50\n",
      "\u001b[1m29567/29567\u001b[0m \u001b[32m━━━━━━━━━━━━━━━━━━━━\u001b[0m\u001b[37m\u001b[0m \u001b[1m68s\u001b[0m 2ms/step - loss: 1.3744e-07 - mae: 7.1704e-05 - val_loss: 1.1473e-11 - val_mae: 1.2840e-06\n",
      "Epoch 23/50\n",
      "\u001b[1m29567/29567\u001b[0m \u001b[32m━━━━━━━━━━━━━━━━━━━━\u001b[0m\u001b[37m\u001b[0m \u001b[1m54s\u001b[0m 2ms/step - loss: 1.1757e-07 - mae: 5.9718e-05 - val_loss: 9.5827e-14 - val_mae: 1.8445e-08\n",
      "Epoch 24/50\n",
      "\u001b[1m29567/29567\u001b[0m \u001b[32m━━━━━━━━━━━━━━━━━━━━\u001b[0m\u001b[37m\u001b[0m \u001b[1m53s\u001b[0m 2ms/step - loss: 1.1448e-07 - mae: 6.4045e-05 - val_loss: 1.4355e-12 - val_mae: 1.0310e-06\n",
      "Epoch 25/50\n",
      "\u001b[1m29567/29567\u001b[0m \u001b[32m━━━━━━━━━━━━━━━━━━━━\u001b[0m\u001b[37m\u001b[0m \u001b[1m53s\u001b[0m 2ms/step - loss: 1.3006e-07 - mae: 8.8415e-05 - val_loss: 4.9330e-10 - val_mae: 3.6449e-07\n",
      "Epoch 26/50\n",
      "\u001b[1m29567/29567\u001b[0m \u001b[32m━━━━━━━━━━━━━━━━━━━━\u001b[0m\u001b[37m\u001b[0m \u001b[1m53s\u001b[0m 2ms/step - loss: 3.0544e-07 - mae: 7.9317e-05 - val_loss: 8.9947e-14 - val_mae: 1.5456e-08\n",
      "Epoch 27/50\n",
      "\u001b[1m29567/29567\u001b[0m \u001b[32m━━━━━━━━━━━━━━━━━━━━\u001b[0m\u001b[37m\u001b[0m \u001b[1m55s\u001b[0m 2ms/step - loss: 1.9376e-07 - mae: 5.9459e-05 - val_loss: 9.5716e-14 - val_mae: 6.4083e-09\n",
      "Epoch 28/50\n",
      "\u001b[1m29567/29567\u001b[0m \u001b[32m━━━━━━━━━━━━━━━━━━━━\u001b[0m\u001b[37m\u001b[0m \u001b[1m60s\u001b[0m 2ms/step - loss: 1.4626e-07 - mae: 6.4391e-05 - val_loss: 1.0921e-13 - val_mae: 4.1263e-08\n",
      "Epoch 29/50\n",
      "\u001b[1m29567/29567\u001b[0m \u001b[32m━━━━━━━━━━━━━━━━━━━━\u001b[0m\u001b[37m\u001b[0m \u001b[1m53s\u001b[0m 2ms/step - loss: 1.3042e-07 - mae: 9.0065e-05 - val_loss: 2.4873e-11 - val_mae: 8.1494e-07\n",
      "Epoch 30/50\n",
      "\u001b[1m29567/29567\u001b[0m \u001b[32m━━━━━━━━━━━━━━━━━━━━\u001b[0m\u001b[37m\u001b[0m \u001b[1m54s\u001b[0m 2ms/step - loss: 8.7075e-08 - mae: 5.9348e-05 - val_loss: 9.4633e-13 - val_mae: 8.6519e-07\n",
      "Epoch 31/50\n",
      "\u001b[1m29567/29567\u001b[0m \u001b[32m━━━━━━━━━━━━━━━━━━━━\u001b[0m\u001b[37m\u001b[0m \u001b[1m54s\u001b[0m 2ms/step - loss: 9.2155e-08 - mae: 8.2650e-05 - val_loss: 1.1401e-13 - val_mae: 1.8156e-08\n",
      "Epoch 32/50\n",
      "\u001b[1m29567/29567\u001b[0m \u001b[32m━━━━━━━━━━━━━━━━━━━━\u001b[0m\u001b[37m\u001b[0m \u001b[1m54s\u001b[0m 2ms/step - loss: 9.9369e-08 - mae: 6.0431e-05 - val_loss: 1.3095e-08 - val_mae: 5.9452e-05\n",
      "Epoch 33/50\n",
      "\u001b[1m29567/29567\u001b[0m \u001b[32m━━━━━━━━━━━━━━━━━━━━\u001b[0m\u001b[37m\u001b[0m \u001b[1m54s\u001b[0m 2ms/step - loss: 7.9153e-08 - mae: 6.0745e-05 - val_loss: 8.5258e-13 - val_mae: 6.9150e-07\n",
      "Epoch 34/50\n",
      "\u001b[1m29567/29567\u001b[0m \u001b[32m━━━━━━━━━━━━━━━━━━━━\u001b[0m\u001b[37m\u001b[0m \u001b[1m59s\u001b[0m 2ms/step - loss: 9.6957e-08 - mae: 6.2517e-05 - val_loss: 3.5177e-09 - val_mae: 3.3128e-05\n",
      "Epoch 35/50\n",
      "\u001b[1m29567/29567\u001b[0m \u001b[32m━━━━━━━━━━━━━━━━━━━━\u001b[0m\u001b[37m\u001b[0m \u001b[1m55s\u001b[0m 2ms/step - loss: 8.7587e-08 - mae: 5.8796e-05 - val_loss: 2.8580e-11 - val_mae: 2.8917e-06\n",
      "Epoch 36/50\n",
      "\u001b[1m29567/29567\u001b[0m \u001b[32m━━━━━━━━━━━━━━━━━━━━\u001b[0m\u001b[37m\u001b[0m \u001b[1m54s\u001b[0m 2ms/step - loss: 1.0669e-07 - mae: 7.0138e-05 - val_loss: 1.2960e-13 - val_mae: 9.3874e-09\n",
      "Epoch 37/50\n",
      "\u001b[1m29567/29567\u001b[0m \u001b[32m━━━━━━━━━━━━━━━━━━━━\u001b[0m\u001b[37m\u001b[0m \u001b[1m54s\u001b[0m 2ms/step - loss: 7.6348e-08 - mae: 5.8039e-05 - val_loss: 1.3128e-13 - val_mae: 1.3711e-08\n",
      "Epoch 38/50\n",
      "\u001b[1m29567/29567\u001b[0m \u001b[32m━━━━━━━━━━━━━━━━━━━━\u001b[0m\u001b[37m\u001b[0m \u001b[1m54s\u001b[0m 2ms/step - loss: 5.9644e-08 - mae: 5.8658e-05 - val_loss: 3.3557e-06 - val_mae: 0.0017\n",
      "Epoch 39/50\n",
      "\u001b[1m29567/29567\u001b[0m \u001b[32m━━━━━━━━━━━━━━━━━━━━\u001b[0m\u001b[37m\u001b[0m \u001b[1m59s\u001b[0m 2ms/step - loss: 9.1629e-08 - mae: 5.3664e-05 - val_loss: 1.4655e-13 - val_mae: 6.2062e-08\n",
      "Epoch 40/50\n",
      "\u001b[1m29567/29567\u001b[0m \u001b[32m━━━━━━━━━━━━━━━━━━━━\u001b[0m\u001b[37m\u001b[0m \u001b[1m55s\u001b[0m 2ms/step - loss: 8.7308e-08 - mae: 4.5980e-05 - val_loss: 1.5785e-13 - val_mae: 1.2197e-07\n",
      "Epoch 41/50\n",
      "\u001b[1m29567/29567\u001b[0m \u001b[32m━━━━━━━━━━━━━━━━━━━━\u001b[0m\u001b[37m\u001b[0m \u001b[1m55s\u001b[0m 2ms/step - loss: 8.7210e-08 - mae: 6.1522e-05 - val_loss: 1.0030e-10 - val_mae: 9.9096e-06\n",
      "Epoch 42/50\n",
      "\u001b[1m29567/29567\u001b[0m \u001b[32m━━━━━━━━━━━━━━━━━━━━\u001b[0m\u001b[37m\u001b[0m \u001b[1m55s\u001b[0m 2ms/step - loss: 1.0127e-07 - mae: 6.2292e-05 - val_loss: 7.7934e-13 - val_mae: 3.8932e-07\n",
      "Epoch 43/50\n",
      "\u001b[1m29567/29567\u001b[0m \u001b[32m━━━━━━━━━━━━━━━━━━━━\u001b[0m\u001b[37m\u001b[0m \u001b[1m55s\u001b[0m 2ms/step - loss: 6.5620e-08 - mae: 6.5830e-05 - val_loss: 1.4937e-09 - val_mae: 1.8115e-05\n",
      "Epoch 44/50\n",
      "\u001b[1m29567/29567\u001b[0m \u001b[32m━━━━━━━━━━━━━━━━━━━━\u001b[0m\u001b[37m\u001b[0m \u001b[1m56s\u001b[0m 2ms/step - loss: 9.7946e-08 - mae: 4.9811e-05 - val_loss: 7.5788e-12 - val_mae: 1.1316e-06\n",
      "Epoch 45/50\n",
      "\u001b[1m29567/29567\u001b[0m \u001b[32m━━━━━━━━━━━━━━━━━━━━\u001b[0m\u001b[37m\u001b[0m \u001b[1m59s\u001b[0m 2ms/step - loss: 9.0410e-08 - mae: 7.5081e-05 - val_loss: 1.4589e-13 - val_mae: 1.1929e-08\n",
      "Epoch 46/50\n",
      "\u001b[1m29567/29567\u001b[0m \u001b[32m━━━━━━━━━━━━━━━━━━━━\u001b[0m\u001b[37m\u001b[0m \u001b[1m55s\u001b[0m 2ms/step - loss: 7.0581e-08 - mae: 5.0796e-05 - val_loss: 3.8440e-12 - val_mae: 1.7165e-06\n",
      "Epoch 47/50\n",
      "\u001b[1m29567/29567\u001b[0m \u001b[32m━━━━━━━━━━━━━━━━━━━━\u001b[0m\u001b[37m\u001b[0m \u001b[1m56s\u001b[0m 2ms/step - loss: 6.5531e-08 - mae: 6.1785e-05 - val_loss: 1.4653e-13 - val_mae: 1.3047e-08\n",
      "Epoch 48/50\n",
      "\u001b[1m29567/29567\u001b[0m \u001b[32m━━━━━━━━━━━━━━━━━━━━\u001b[0m\u001b[37m\u001b[0m \u001b[1m55s\u001b[0m 2ms/step - loss: 7.0172e-08 - mae: 6.2076e-05 - val_loss: 1.5985e-13 - val_mae: 5.5469e-08\n",
      "Epoch 49/50\n",
      "\u001b[1m29567/29567\u001b[0m \u001b[32m━━━━━━━━━━━━━━━━━━━━\u001b[0m\u001b[37m\u001b[0m \u001b[1m55s\u001b[0m 2ms/step - loss: 1.0012e-07 - mae: 5.9514e-05 - val_loss: 1.0514e-11 - val_mae: 2.3915e-06\n",
      "Epoch 50/50\n",
      "\u001b[1m29567/29567\u001b[0m \u001b[32m━━━━━━━━━━━━━━━━━━━━\u001b[0m\u001b[37m\u001b[0m \u001b[1m58s\u001b[0m 2ms/step - loss: 8.4183e-08 - mae: 6.1500e-05 - val_loss: 1.4961e-13 - val_mae: 2.0657e-08\n"
     ]
    }
   ],
   "source": [
    "import tensorflow as tf\n",
    "from tensorflow import keras\n",
    "from tensorflow.keras.models import Sequential\n",
    "from tensorflow.keras.layers import Dense\n",
    "\n",
    "# Define MLP model\n",
    "model = Sequential([\n",
    "    Dense(64, activation='relu', input_shape=(X_train.shape[1],)),  # First hidden layer\n",
    "    Dense(32, activation='relu'),  # Second hidden layer\n",
    "    Dense(1, activation='linear')  # Output layer (regression)\n",
    "])\n",
    "\n",
    "# Compile model\n",
    "model.compile(optimizer='adam', loss='mse', metrics=['mae'])\n",
    "\n",
    "# Train the model\n",
    "history = model.fit(X_train, y_train, epochs=50, batch_size=32, validation_data=(X_test, y_test), verbose=1)\n"
   ]
  },
  {
   "cell_type": "code",
   "execution_count": 13,
   "id": "dc198e1c-1eb3-4504-812f-fa124d0ad636",
   "metadata": {},
   "outputs": [
    {
     "name": "stdout",
     "output_type": "stream",
     "text": [
      "\u001b[1m7392/7392\u001b[0m \u001b[32m━━━━━━━━━━━━━━━━━━━━\u001b[0m\u001b[37m\u001b[0m \u001b[1m11s\u001b[0m 2ms/step - loss: 1.1557e-13 - mae: 2.0467e-08\n",
      "Test MAE: 2.0657433097426292e-08\n",
      "\u001b[1m7392/7392\u001b[0m \u001b[32m━━━━━━━━━━━━━━━━━━━━\u001b[0m\u001b[37m\u001b[0m \u001b[1m9s\u001b[0m 1ms/step\n",
      "Test RMSE: 3.8679513430250546e-07\n"
     ]
    }
   ],
   "source": [
    "from sklearn.metrics import mean_squared_error\n",
    "import numpy as np\n",
    "\n",
    "# Evaluate the model\n",
    "loss, mae = model.evaluate(X_test, y_test)\n",
    "print(f\"Test MAE: {mae}\")\n",
    "\n",
    "# Predict rh_ij for test set\n",
    "y_pred = model.predict(X_test)\n",
    "\n",
    "# Compute RMSE\n",
    "rmse = np.sqrt(mean_squared_error(y_test, y_pred))\n",
    "print(f\"Test RMSE: {rmse}\")\n",
    "\n",
    "# # Add predictions to the DataFrame\n",
    "# df_test = df.iloc[y_test.index].copy()\n",
    "# df_test['predicted_rh_ij'] = y_pred\n",
    "# df_test['rmse'] = rmse  # Store RMSE in dataframe if needed\n"
   ]
  },
  {
   "cell_type": "code",
   "execution_count": 15,
   "id": "bb3d6e3d-737e-4393-94f3-6fcfcae8e2dc",
   "metadata": {},
   "outputs": [
    {
     "name": "stdout",
     "output_type": "stream",
     "text": [
      "\u001b[1m7392/7392\u001b[0m \u001b[32m━━━━━━━━━━━━━━━━━━━━\u001b[0m\u001b[37m\u001b[0m \u001b[1m9s\u001b[0m 1ms/step\n"
     ]
    }
   ],
   "source": [
    "y_pred = model.predict(X_test)\n"
   ]
  },
  {
   "cell_type": "code",
   "execution_count": 10,
   "id": "fb2e92aa-75d0-4063-9349-f6e874b06bbb",
   "metadata": {},
   "outputs": [
    {
     "name": "stdout",
     "output_type": "stream",
     "text": [
      "Hit Ratio @ 10: 0.4000\n"
     ]
    }
   ],
   "source": [
    "import numpy as np\n",
    "\n",
    "# Convert to numpy arrays\n",
    "y_test_np = np.array(y_test).flatten()\n",
    "y_pred_np = y_pred.flatten()\n",
    "\n",
    "# Define K (e.g., Top 10)\n",
    "K = 10\n",
    "\n",
    "# Get indices of the top-K predicted values\n",
    "top_k_pred_indices = np.argsort(y_pred_np)[-K:]\n",
    "\n",
    "# Get indices of the top-K actual values\n",
    "top_k_actual_indices = np.argsort(y_test_np)[-K:]\n",
    "\n",
    "# Compute hits (intersection between top-K predicted and actual)\n",
    "hits = np.intersect1d(top_k_pred_indices, top_k_actual_indices)\n",
    "\n",
    "# Compute Hit Ratio\n",
    "hit_ratio = len(hits) / K\n",
    "print(f\"Hit Ratio @ {K}: {hit_ratio:.4f}\")\n"
   ]
  },
  {
   "cell_type": "code",
   "execution_count": 12,
   "id": "85395789-408d-41c2-9a63-950c7299f05d",
   "metadata": {},
   "outputs": [
    {
     "name": "stdout",
     "output_type": "stream",
     "text": [
      "Sparsity: 0.9999 (or 99.99%)\n"
     ]
    }
   ],
   "source": [
    "# Check how many values are non-zero\n",
    "num_users = df['review/userId'].nunique()\n",
    "num_items = df['product/productId'].nunique()\n",
    "num_interactions = len(df)  # Each row is an interaction\n",
    "\n",
    "# Calculate sparsity\n",
    "total_possible_interactions = num_users * num_items\n",
    "sparsity = 1 - (num_interactions / total_possible_interactions)\n",
    "\n",
    "print(f\"Sparsity: {sparsity:.4f} (or {sparsity * 100:.2f}%)\")\n"
   ]
  },
  {
   "cell_type": "code",
   "execution_count": 15,
   "id": "d2879b7b-ec45-4cc5-ae0b-9d6ee76450f9",
   "metadata": {},
   "outputs": [],
   "source": [
    "def hybrid_recommend(user_id, df, svd_model, mlp_model, num_recommendations=5):\n",
    "    all_products = df['product/productId'].unique()\n",
    "    \n",
    "    # Predict rh_ij using SVD\n",
    "    svd_predictions = [svd_model.predict(user_id, product_id) for product_id in all_products]\n",
    "    svd_predictions.sort(key=lambda x: x.est, reverse=True)\n",
    "    top_products_svd = [pred.iid for pred in svd_predictions[:num_recommendations]]\n",
    "    \n",
    "    # Use MLP model to refine ranking\n",
    "    top_products_mlp = df[df['product/productId'].isin(top_products_svd)].copy()\n",
    "    X_mlp = scaler.transform(top_products_mlp[['b_ij', 'h_ij', 'most_ij', 'top_ij', 'd_ij']].values)\n",
    "    top_products_mlp['mlp_rhij'] = mlp_model.predict(X_mlp)\n",
    "    \n",
    "    # Sort by combined score (SVD + MLP)\n",
    "    top_products_mlp = top_products_mlp.sort_values(by='mlp_rhij', ascending=False)\n",
    "    \n",
    "    return top_products_mlp[['product/productId', 'product/title', 'mlp_rhij']].head(num_recommendations)\n"
   ]
  },
  {
   "cell_type": "code",
   "execution_count": 18,
   "id": "6b7da30d-7ced-4889-8c20-f2edbaf90bba",
   "metadata": {},
   "outputs": [
    {
     "name": "stdout",
     "output_type": "stream",
     "text": [
      "0           Kodak Max K2000 Battery Charger with 4 NiMH AA Batteries\n",
      "1           Kodak Max K2000 Battery Charger with 4 NiMH AA Batteries\n",
      "3           Kodak Max K2000 Battery Charger with 4 NiMH AA Batteries\n",
      "5           Kodak Max K2000 Battery Charger with 4 NiMH AA Batteries\n",
      "6           Kodak Max K2000 Battery Charger with 4 NiMH AA Batteries\n",
      "                                     ...                            \n",
      "1241769                                    3Com Audrey Web Appliance\n",
      "1241770                                    3Com Audrey Web Appliance\n",
      "1241772                                    3Com Audrey Web Appliance\n",
      "1241774                                    3Com Audrey Web Appliance\n",
      "1241777    Sony ACCCSP Starter Kit for DSCP3 & DSCP5 Digital Cameras\n",
      "Name: product/title, Length: 372260, dtype: object\n"
     ]
    }
   ],
   "source": [
    "pd.set_option('display.max_colwidth', None)  # Prevent truncation\n",
    "print(df['product/title'])\n"
   ]
  },
  {
   "cell_type": "code",
   "execution_count": 20,
   "id": "e31577ec-031d-4f85-a79b-13cfe6f3ea93",
   "metadata": {
    "scrolled": true
   },
   "outputs": [
    {
     "name": "stdout",
     "output_type": "stream",
     "text": [
      "['product/productId' 'product/title' 'product/price' 'review/userId'\n",
      " 'review/profileName' 'review/helpfulness' 'review/score' 'review/time'\n",
      " 'review/summary' 'review/text' 'b_ij' 'sum_b_xj' 'h_ij' 'rank' 'z_ij'\n",
      " 'sum_z' 'most_ij' 'q_ij' 'sum_q' 'top_ij' 'd_ij' 'rh_ij'\n",
      " 'sentiment_score']\n"
     ]
    }
   ],
   "source": [
    "import pandas as pd\n",
    "import numpy as np\n",
    "\n",
    "df= pd.read_csv('output_sentiment.csv.gz', compression='gzip')\n",
    "\n",
    "# Display the first 10 rows\n",
    "# print(df.head(50))\n",
    "print(df.columns.values)"
   ]
  },
  {
   "cell_type": "code",
   "execution_count": 21,
   "id": "e7753fcb-eb10-48cb-ab49-680408f8cdbe",
   "metadata": {},
   "outputs": [],
   "source": [
    "df = df.dropna(subset=['rh_ij'])\n"
   ]
  },
  {
   "cell_type": "code",
   "execution_count": 4,
   "id": "e30ffcf5-bbb9-45fd-9f0c-fb364ce7997e",
   "metadata": {},
   "outputs": [
    {
     "name": "stderr",
     "output_type": "stream",
     "text": [
      "Epoch 1/50:  95%|████████████████████████████████████████████████████████   | 372260/391886 [00:11<00:00, 31815.66it/s]\n"
     ]
    },
    {
     "name": "stdout",
     "output_type": "stream",
     "text": [
      "Epoch 1: RMSE = 0.1255\n"
     ]
    },
    {
     "name": "stderr",
     "output_type": "stream",
     "text": [
      "Epoch 2/50:  95%|████████████████████████████████████████████████████████   | 372260/391886 [00:11<00:00, 32786.44it/s]\n"
     ]
    },
    {
     "name": "stdout",
     "output_type": "stream",
     "text": [
      "Epoch 2: RMSE = 0.1204\n"
     ]
    },
    {
     "name": "stderr",
     "output_type": "stream",
     "text": [
      "Epoch 3/50:  95%|████████████████████████████████████████████████████████   | 372260/391886 [00:12<00:00, 30242.15it/s]\n"
     ]
    },
    {
     "name": "stdout",
     "output_type": "stream",
     "text": [
      "Epoch 3: RMSE = 0.1169\n"
     ]
    },
    {
     "name": "stderr",
     "output_type": "stream",
     "text": [
      "Epoch 4/50:  95%|████████████████████████████████████████████████████████   | 372260/391886 [00:11<00:00, 32599.16it/s]\n"
     ]
    },
    {
     "name": "stdout",
     "output_type": "stream",
     "text": [
      "Epoch 4: RMSE = 0.1143\n"
     ]
    },
    {
     "name": "stderr",
     "output_type": "stream",
     "text": [
      "Epoch 5/50:  95%|████████████████████████████████████████████████████████   | 372260/391886 [00:11<00:00, 31659.96it/s]\n"
     ]
    },
    {
     "name": "stdout",
     "output_type": "stream",
     "text": [
      "Epoch 5: RMSE = 0.1122\n"
     ]
    },
    {
     "name": "stderr",
     "output_type": "stream",
     "text": [
      "Epoch 6/50:  95%|████████████████████████████████████████████████████████   | 372260/391886 [00:10<00:00, 34822.34it/s]\n"
     ]
    },
    {
     "name": "stdout",
     "output_type": "stream",
     "text": [
      "Epoch 6: RMSE = 0.1104\n"
     ]
    },
    {
     "name": "stderr",
     "output_type": "stream",
     "text": [
      "Epoch 7/50:  95%|████████████████████████████████████████████████████████   | 372260/391886 [00:11<00:00, 33178.22it/s]\n"
     ]
    },
    {
     "name": "stdout",
     "output_type": "stream",
     "text": [
      "Epoch 7: RMSE = 0.1089\n"
     ]
    },
    {
     "name": "stderr",
     "output_type": "stream",
     "text": [
      "Epoch 8/50:  95%|████████████████████████████████████████████████████████   | 372260/391886 [00:10<00:00, 36446.17it/s]\n"
     ]
    },
    {
     "name": "stdout",
     "output_type": "stream",
     "text": [
      "Epoch 8: RMSE = 0.1076\n"
     ]
    },
    {
     "name": "stderr",
     "output_type": "stream",
     "text": [
      "Epoch 9/50:  95%|████████████████████████████████████████████████████████   | 372260/391886 [00:10<00:00, 36847.44it/s]\n"
     ]
    },
    {
     "name": "stdout",
     "output_type": "stream",
     "text": [
      "Epoch 9: RMSE = 0.1064\n"
     ]
    },
    {
     "name": "stderr",
     "output_type": "stream",
     "text": [
      "Epoch 10/50:  95%|███████████████████████████████████████████████████████   | 372260/391886 [00:10<00:00, 34496.74it/s]\n"
     ]
    },
    {
     "name": "stdout",
     "output_type": "stream",
     "text": [
      "Epoch 10: RMSE = 0.1054\n"
     ]
    },
    {
     "name": "stderr",
     "output_type": "stream",
     "text": [
      "Epoch 11/50:  95%|███████████████████████████████████████████████████████   | 372260/391886 [00:11<00:00, 33156.70it/s]\n"
     ]
    },
    {
     "name": "stdout",
     "output_type": "stream",
     "text": [
      "Epoch 11: RMSE = 0.1045\n"
     ]
    },
    {
     "name": "stderr",
     "output_type": "stream",
     "text": [
      "Epoch 12/50:  95%|███████████████████████████████████████████████████████   | 372260/391886 [00:11<00:00, 33495.63it/s]\n"
     ]
    },
    {
     "name": "stdout",
     "output_type": "stream",
     "text": [
      "Epoch 12: RMSE = 0.1036\n"
     ]
    },
    {
     "name": "stderr",
     "output_type": "stream",
     "text": [
      "Epoch 13/50:  95%|███████████████████████████████████████████████████████   | 372260/391886 [00:11<00:00, 33108.13it/s]\n"
     ]
    },
    {
     "name": "stdout",
     "output_type": "stream",
     "text": [
      "Epoch 13: RMSE = 0.1029\n"
     ]
    },
    {
     "name": "stderr",
     "output_type": "stream",
     "text": [
      "Epoch 14/50:  95%|███████████████████████████████████████████████████████   | 372260/391886 [00:11<00:00, 33539.91it/s]\n"
     ]
    },
    {
     "name": "stdout",
     "output_type": "stream",
     "text": [
      "Epoch 14: RMSE = 0.1022\n"
     ]
    },
    {
     "name": "stderr",
     "output_type": "stream",
     "text": [
      "Epoch 15/50:  95%|███████████████████████████████████████████████████████   | 372260/391886 [00:10<00:00, 33944.40it/s]\n"
     ]
    },
    {
     "name": "stdout",
     "output_type": "stream",
     "text": [
      "Epoch 15: RMSE = 0.1015\n"
     ]
    },
    {
     "name": "stderr",
     "output_type": "stream",
     "text": [
      "Epoch 16/50:  95%|███████████████████████████████████████████████████████   | 372260/391886 [00:11<00:00, 33223.59it/s]\n"
     ]
    },
    {
     "name": "stdout",
     "output_type": "stream",
     "text": [
      "Epoch 16: RMSE = 0.1009\n"
     ]
    },
    {
     "name": "stderr",
     "output_type": "stream",
     "text": [
      "Epoch 17/50:  95%|███████████████████████████████████████████████████████   | 372260/391886 [00:11<00:00, 33425.07it/s]\n"
     ]
    },
    {
     "name": "stdout",
     "output_type": "stream",
     "text": [
      "Epoch 17: RMSE = 0.1004\n"
     ]
    },
    {
     "name": "stderr",
     "output_type": "stream",
     "text": [
      "Epoch 18/50:  95%|███████████████████████████████████████████████████████   | 372260/391886 [00:10<00:00, 34067.55it/s]\n"
     ]
    },
    {
     "name": "stdout",
     "output_type": "stream",
     "text": [
      "Epoch 18: RMSE = 0.0999\n"
     ]
    },
    {
     "name": "stderr",
     "output_type": "stream",
     "text": [
      "Epoch 19/50:  95%|███████████████████████████████████████████████████████   | 372260/391886 [00:11<00:00, 33541.43it/s]\n"
     ]
    },
    {
     "name": "stdout",
     "output_type": "stream",
     "text": [
      "Epoch 19: RMSE = 0.0994\n"
     ]
    },
    {
     "name": "stderr",
     "output_type": "stream",
     "text": [
      "Epoch 20/50:  95%|███████████████████████████████████████████████████████   | 372260/391886 [00:11<00:00, 33454.63it/s]\n"
     ]
    },
    {
     "name": "stdout",
     "output_type": "stream",
     "text": [
      "Epoch 20: RMSE = 0.0990\n"
     ]
    },
    {
     "name": "stderr",
     "output_type": "stream",
     "text": [
      "Epoch 21/50:  95%|███████████████████████████████████████████████████████   | 372260/391886 [00:11<00:00, 33012.97it/s]\n"
     ]
    },
    {
     "name": "stdout",
     "output_type": "stream",
     "text": [
      "Epoch 21: RMSE = 0.0986\n"
     ]
    },
    {
     "name": "stderr",
     "output_type": "stream",
     "text": [
      "Epoch 22/50:  95%|███████████████████████████████████████████████████████   | 372260/391886 [00:11<00:00, 32962.19it/s]\n"
     ]
    },
    {
     "name": "stdout",
     "output_type": "stream",
     "text": [
      "Epoch 22: RMSE = 0.0982\n"
     ]
    },
    {
     "name": "stderr",
     "output_type": "stream",
     "text": [
      "Epoch 23/50:  95%|███████████████████████████████████████████████████████   | 372260/391886 [00:11<00:00, 33574.67it/s]\n"
     ]
    },
    {
     "name": "stdout",
     "output_type": "stream",
     "text": [
      "Epoch 23: RMSE = 0.0978\n"
     ]
    },
    {
     "name": "stderr",
     "output_type": "stream",
     "text": [
      "Epoch 24/50:  95%|███████████████████████████████████████████████████████   | 372260/391886 [00:11<00:00, 33239.73it/s]\n"
     ]
    },
    {
     "name": "stdout",
     "output_type": "stream",
     "text": [
      "Epoch 24: RMSE = 0.0975\n"
     ]
    },
    {
     "name": "stderr",
     "output_type": "stream",
     "text": [
      "Epoch 25/50:  95%|███████████████████████████████████████████████████████   | 372260/391886 [00:11<00:00, 33220.34it/s]\n"
     ]
    },
    {
     "name": "stdout",
     "output_type": "stream",
     "text": [
      "Epoch 25: RMSE = 0.0972\n"
     ]
    },
    {
     "name": "stderr",
     "output_type": "stream",
     "text": [
      "Epoch 26/50:  95%|███████████████████████████████████████████████████████   | 372260/391886 [00:10<00:00, 34308.08it/s]\n"
     ]
    },
    {
     "name": "stdout",
     "output_type": "stream",
     "text": [
      "Epoch 26: RMSE = 0.0969\n"
     ]
    },
    {
     "name": "stderr",
     "output_type": "stream",
     "text": [
      "Epoch 27/50:  95%|███████████████████████████████████████████████████████   | 372260/391886 [00:10<00:00, 36651.79it/s]\n"
     ]
    },
    {
     "name": "stdout",
     "output_type": "stream",
     "text": [
      "Epoch 27: RMSE = 0.0966\n"
     ]
    },
    {
     "name": "stderr",
     "output_type": "stream",
     "text": [
      "Epoch 28/50:  95%|███████████████████████████████████████████████████████   | 372260/391886 [00:10<00:00, 36936.15it/s]\n"
     ]
    },
    {
     "name": "stdout",
     "output_type": "stream",
     "text": [
      "Epoch 28: RMSE = 0.0964\n"
     ]
    },
    {
     "name": "stderr",
     "output_type": "stream",
     "text": [
      "Epoch 29/50:  95%|███████████████████████████████████████████████████████   | 372260/391886 [00:10<00:00, 37023.47it/s]\n"
     ]
    },
    {
     "name": "stdout",
     "output_type": "stream",
     "text": [
      "Epoch 29: RMSE = 0.0962\n"
     ]
    },
    {
     "name": "stderr",
     "output_type": "stream",
     "text": [
      "Epoch 30/50:  95%|███████████████████████████████████████████████████████   | 372260/391886 [00:10<00:00, 35924.98it/s]\n"
     ]
    },
    {
     "name": "stdout",
     "output_type": "stream",
     "text": [
      "Epoch 30: RMSE = 0.0959\n"
     ]
    },
    {
     "name": "stderr",
     "output_type": "stream",
     "text": [
      "Epoch 31/50:  95%|███████████████████████████████████████████████████████   | 372260/391886 [00:11<00:00, 33639.18it/s]\n"
     ]
    },
    {
     "name": "stdout",
     "output_type": "stream",
     "text": [
      "Epoch 31: RMSE = 0.0957\n"
     ]
    },
    {
     "name": "stderr",
     "output_type": "stream",
     "text": [
      "Epoch 32/50:  95%|███████████████████████████████████████████████████████   | 372260/391886 [00:11<00:00, 33368.14it/s]\n"
     ]
    },
    {
     "name": "stdout",
     "output_type": "stream",
     "text": [
      "Epoch 32: RMSE = 0.0955\n"
     ]
    },
    {
     "name": "stderr",
     "output_type": "stream",
     "text": [
      "Epoch 33/50:  95%|███████████████████████████████████████████████████████   | 372260/391886 [00:11<00:00, 33271.81it/s]\n"
     ]
    },
    {
     "name": "stdout",
     "output_type": "stream",
     "text": [
      "Epoch 33: RMSE = 0.0953\n"
     ]
    },
    {
     "name": "stderr",
     "output_type": "stream",
     "text": [
      "Epoch 34/50:  95%|███████████████████████████████████████████████████████   | 372260/391886 [00:11<00:00, 32083.50it/s]\n"
     ]
    },
    {
     "name": "stdout",
     "output_type": "stream",
     "text": [
      "Epoch 34: RMSE = 0.0952\n"
     ]
    },
    {
     "name": "stderr",
     "output_type": "stream",
     "text": [
      "Epoch 35/50:  95%|███████████████████████████████████████████████████████   | 372260/391886 [00:12<00:00, 30858.20it/s]\n"
     ]
    },
    {
     "name": "stdout",
     "output_type": "stream",
     "text": [
      "Epoch 35: RMSE = 0.0950\n"
     ]
    },
    {
     "name": "stderr",
     "output_type": "stream",
     "text": [
      "Epoch 36/50:  95%|███████████████████████████████████████████████████████   | 372260/391886 [00:10<00:00, 33904.45it/s]\n"
     ]
    },
    {
     "name": "stdout",
     "output_type": "stream",
     "text": [
      "Epoch 36: RMSE = 0.0949\n"
     ]
    },
    {
     "name": "stderr",
     "output_type": "stream",
     "text": [
      "Epoch 37/50:  95%|███████████████████████████████████████████████████████   | 372260/391886 [00:10<00:00, 33894.10it/s]\n"
     ]
    },
    {
     "name": "stdout",
     "output_type": "stream",
     "text": [
      "Epoch 37: RMSE = 0.0947\n"
     ]
    },
    {
     "name": "stderr",
     "output_type": "stream",
     "text": [
      "Epoch 38/50:  95%|███████████████████████████████████████████████████████   | 372260/391886 [00:11<00:00, 33108.01it/s]\n"
     ]
    },
    {
     "name": "stdout",
     "output_type": "stream",
     "text": [
      "Epoch 38: RMSE = 0.0946\n"
     ]
    },
    {
     "name": "stderr",
     "output_type": "stream",
     "text": [
      "Epoch 39/50:  95%|███████████████████████████████████████████████████████   | 372260/391886 [00:11<00:00, 33044.39it/s]\n"
     ]
    },
    {
     "name": "stdout",
     "output_type": "stream",
     "text": [
      "Epoch 39: RMSE = 0.0945\n"
     ]
    },
    {
     "name": "stderr",
     "output_type": "stream",
     "text": [
      "Epoch 40/50:  95%|███████████████████████████████████████████████████████   | 372260/391886 [00:12<00:00, 30973.33it/s]\n"
     ]
    },
    {
     "name": "stdout",
     "output_type": "stream",
     "text": [
      "Epoch 40: RMSE = 0.0943\n"
     ]
    },
    {
     "name": "stderr",
     "output_type": "stream",
     "text": [
      "Epoch 41/50:  95%|███████████████████████████████████████████████████████   | 372260/391886 [00:11<00:00, 32336.73it/s]\n"
     ]
    },
    {
     "name": "stdout",
     "output_type": "stream",
     "text": [
      "Epoch 41: RMSE = 0.0942\n"
     ]
    },
    {
     "name": "stderr",
     "output_type": "stream",
     "text": [
      "Epoch 42/50:  95%|███████████████████████████████████████████████████████   | 372260/391886 [00:11<00:00, 33816.58it/s]\n"
     ]
    },
    {
     "name": "stdout",
     "output_type": "stream",
     "text": [
      "Epoch 42: RMSE = 0.0941\n"
     ]
    },
    {
     "name": "stderr",
     "output_type": "stream",
     "text": [
      "Epoch 43/50:  95%|███████████████████████████████████████████████████████   | 372260/391886 [00:11<00:00, 33622.50it/s]\n"
     ]
    },
    {
     "name": "stdout",
     "output_type": "stream",
     "text": [
      "Epoch 43: RMSE = 0.0940\n"
     ]
    },
    {
     "name": "stderr",
     "output_type": "stream",
     "text": [
      "Epoch 44/50:  95%|███████████████████████████████████████████████████████   | 372260/391886 [00:11<00:00, 33274.31it/s]\n"
     ]
    },
    {
     "name": "stdout",
     "output_type": "stream",
     "text": [
      "Epoch 44: RMSE = 0.0939\n"
     ]
    },
    {
     "name": "stderr",
     "output_type": "stream",
     "text": [
      "Epoch 45/50:  95%|███████████████████████████████████████████████████████   | 372260/391886 [00:11<00:00, 33390.67it/s]\n"
     ]
    },
    {
     "name": "stdout",
     "output_type": "stream",
     "text": [
      "Epoch 45: RMSE = 0.0938\n"
     ]
    },
    {
     "name": "stderr",
     "output_type": "stream",
     "text": [
      "Epoch 46/50:  95%|███████████████████████████████████████████████████████   | 372260/391886 [00:10<00:00, 34022.55it/s]\n"
     ]
    },
    {
     "name": "stdout",
     "output_type": "stream",
     "text": [
      "Epoch 46: RMSE = 0.0937\n"
     ]
    },
    {
     "name": "stderr",
     "output_type": "stream",
     "text": [
      "Epoch 47/50:  95%|███████████████████████████████████████████████████████   | 372260/391886 [00:10<00:00, 35553.43it/s]\n"
     ]
    },
    {
     "name": "stdout",
     "output_type": "stream",
     "text": [
      "Epoch 47: RMSE = 0.0937\n"
     ]
    },
    {
     "name": "stderr",
     "output_type": "stream",
     "text": [
      "Epoch 48/50:  95%|███████████████████████████████████████████████████████   | 372260/391886 [00:10<00:00, 36360.08it/s]\n"
     ]
    },
    {
     "name": "stdout",
     "output_type": "stream",
     "text": [
      "Epoch 48: RMSE = 0.0936\n"
     ]
    },
    {
     "name": "stderr",
     "output_type": "stream",
     "text": [
      "Epoch 49/50:  95%|███████████████████████████████████████████████████████   | 372260/391886 [00:10<00:00, 35324.51it/s]\n"
     ]
    },
    {
     "name": "stdout",
     "output_type": "stream",
     "text": [
      "Epoch 49: RMSE = 0.0935\n"
     ]
    },
    {
     "name": "stderr",
     "output_type": "stream",
     "text": [
      "Epoch 50/50:  95%|███████████████████████████████████████████████████████   | 372260/391886 [00:10<00:00, 34523.51it/s]"
     ]
    },
    {
     "name": "stdout",
     "output_type": "stream",
     "text": [
      "Epoch 50: RMSE = 0.0934\n"
     ]
    },
    {
     "name": "stderr",
     "output_type": "stream",
     "text": [
      "\n"
     ]
    }
   ],
   "source": [
    "import numpy as np\n",
    "import pandas as pd\n",
    "from tqdm import tqdm\n",
    "from sklearn.metrics import mean_squared_error\n",
    "from scipy.sparse import dok_matrix\n",
    "\n",
    "# **Step 1: Filter Active Users**\n",
    "user_interaction_counts = df['review/userId'].value_counts()\n",
    "active_users = user_interaction_counts[user_interaction_counts >= 3].index\n",
    "\n",
    "df = df[df['review/userId'].isin(active_users)]  # Keep only active users\n",
    "\n",
    "# Encode users & items\n",
    "users = df['review/userId'].unique()\n",
    "items = df['product/productId'].unique()\n",
    "\n",
    "user_map = {user: i for i, user in enumerate(users)}\n",
    "item_map = {item: i for i, item in enumerate(items)}\n",
    "\n",
    "num_users = len(users)\n",
    "num_items = len(items)\n",
    "\n",
    "# **Convert DataFrame to Numpy Array for Faster Access**\n",
    "ratings = df[['review/userId', 'product/productId', 'rh_ij']].to_numpy()\n",
    "\n",
    "# **SVD with Optimized SGD**\n",
    "def train_svd_sgd(df, num_users, num_items, k=50, lr=0.01, reg=0.1, epochs=20, batch_size=128):\n",
    "    \"\"\"Train an SVD model using MiniBatch SGD with stability fixes.\"\"\"\n",
    "    \n",
    "    # Initialize latent factors\n",
    "    U = np.random.normal(scale=1./np.sqrt(k), size=(num_users, k))\n",
    "    V = np.random.normal(scale=1./np.sqrt(k), size=(num_items, k))\n",
    "\n",
    "    # Min & Max Ratings (for Clipping Predictions)\n",
    "    min_rating = df['rh_ij'].min()\n",
    "    max_rating = df['rh_ij'].max()\n",
    "\n",
    "    for epoch in range(epochs):\n",
    "        np.random.shuffle(ratings)  # Shuffle dataset per epoch\n",
    "\n",
    "        total_loss = 0\n",
    "        count = 0  # Track valid updates\n",
    "\n",
    "        with tqdm(total=len(ratings), desc=f\"Epoch {epoch+1}/{epochs}\") as pbar:\n",
    "            for i in range(0, len(ratings), batch_size):\n",
    "                batch = ratings[i:i+batch_size]\n",
    "\n",
    "                for row in batch:\n",
    "                    user_id, item_id, true_rating = row\n",
    "                    i = user_map.get(user_id)\n",
    "                    j = item_map.get(item_id)\n",
    "\n",
    "                    if i is None or j is None or np.isnan(true_rating):\n",
    "                        continue  # Skip invalid entries\n",
    "\n",
    "                    # Predict rating\n",
    "                    pred = np.dot(U[i, :], V[j, :].T)\n",
    "                    pred = np.clip(pred, min_rating, max_rating)  # Constrain predictions\n",
    "\n",
    "                    # Compute error\n",
    "                    error = true_rating - pred\n",
    "\n",
    "                    # Update latent factors\n",
    "                    U[i, :] += lr * (error * V[j, :] - reg * U[i, :])\n",
    "                    V[j, :] += lr * (error * U[i, :] - reg * V[j, :])\n",
    "\n",
    "                    total_loss += error**2\n",
    "                    count += 1\n",
    "                    pbar.update(1)\n",
    "\n",
    "        # **Decay Learning Rate**\n",
    "        lr *= 0.95\n",
    "\n",
    "        # **Compute RMSE (Handle Edge Cases)**\n",
    "        rmse = np.sqrt(total_loss / count) if count > 0 else float('nan')\n",
    "\n",
    "        print(f\"Epoch {epoch+1}: RMSE = {rmse:.4f}\")\n",
    "\n",
    "    return U, V\n",
    "\n",
    "# **Fix: Drop missing values**\n",
    "df = df.dropna(subset=['rh_ij'])\n",
    "\n",
    "# Train SVD\n",
    "U, V = train_svd_sgd(df, num_users, num_items, k=50, epochs=50, batch_size=512)\n"
   ]
  },
  {
   "cell_type": "code",
   "execution_count": 20,
   "id": "252ec8e2-8d13-4255-8aee-b110616c4b22",
   "metadata": {},
   "outputs": [
    {
     "name": "stderr",
     "output_type": "stream",
     "text": [
      "Processing Users: 100%|████████████████████████████████████████████████████████| 70090/70090 [1:20:50<00:00, 14.45it/s]"
     ]
    },
    {
     "name": "stdout",
     "output_type": "stream",
     "text": [
      "\n",
      "🎯 Hit Ratio @10: 0.0003\n"
     ]
    },
    {
     "name": "stderr",
     "output_type": "stream",
     "text": [
      "\n"
     ]
    }
   ],
   "source": [
    "def compute_hit_ratio_svd(U, V, df, user_map, item_map, k=10):\n",
    "    \"\"\"Compute Hit Ratio @K using per-user processing to reduce memory usage.\"\"\"\n",
    "    \n",
    "    rev_user_map = {v: k for k, v in user_map.items()}\n",
    "    rev_item_map = {v: k for k, v in item_map.items()}\n",
    "    \n",
    "    unique_users = list(user_map.values())  # Get all user indices\n",
    "    hits = 0\n",
    "    total_users = 0\n",
    "\n",
    "    for user in tqdm(unique_users, desc=\"Processing Users\"):\n",
    "        actual_items = set(df[df['review/userId'] == rev_user_map[user]]\n",
    "                           .nlargest(k, 'rh_ij')['product/productId'])\n",
    "        \n",
    "        if len(actual_items) == 0:\n",
    "            continue  # Skip users with no interactions\n",
    "\n",
    "        total_users += 1\n",
    "\n",
    "        # **Compute predictions only for this user**\n",
    "        predicted_scores = np.dot(U[user, :], V.T)\n",
    "        top_k_indices = np.argpartition(predicted_scores, -k)[-k:]  # Faster than full sort\n",
    "        top_predicted_items = {rev_item_map[idx] for idx in top_k_indices if idx in rev_item_map}\n",
    "\n",
    "        hits += len(actual_items & top_predicted_items) > 0\n",
    "\n",
    "    return hits / total_users if total_users > 0 else 0\n",
    "\n",
    "# 🚀 **Run the Single-User Optimized Hit Ratio Calculation**\n",
    "hit_ratio_10 = compute_hit_ratio_svd(U, V, df, user_map, item_map, k=10)\n",
    "print(f\"\\n🎯 Hit Ratio @10: {hit_ratio_10:.4f}\")\n"
   ]
  },
  {
   "cell_type": "code",
   "execution_count": null,
   "id": "ca8052dc-354e-4f4d-baad-1b040df20a56",
   "metadata": {},
   "outputs": [],
   "source": []
  }
 ],
 "metadata": {
  "kernelspec": {
   "display_name": "Python 3 (ipykernel)",
   "language": "python",
   "name": "python3"
  },
  "language_info": {
   "codemirror_mode": {
    "name": "ipython",
    "version": 3
   },
   "file_extension": ".py",
   "mimetype": "text/x-python",
   "name": "python",
   "nbconvert_exporter": "python",
   "pygments_lexer": "ipython3",
   "version": "3.12.3"
  }
 },
 "nbformat": 4,
 "nbformat_minor": 5
}
